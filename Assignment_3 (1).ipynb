{
  "nbformat": 4,
  "nbformat_minor": 0,
  "metadata": {
    "kernelspec": {
      "display_name": "Python 3",
      "language": "python",
      "name": "python3"
    },
    "language_info": {
      "codemirror_mode": {
        "name": "ipython",
        "version": 3
      },
      "file_extension": ".py",
      "mimetype": "text/x-python",
      "name": "python",
      "nbconvert_exporter": "python",
      "pygments_lexer": "ipython3",
      "version": "3.7.4"
    },
    "colab": {
      "name": "Assignment_3.ipynb",
      "provenance": [],
      "collapsed_sections": []
    }
  },
  "cells": [
    {
      "cell_type": "markdown",
      "metadata": {
        "id": "vFrSawyhXoQh",
        "colab_type": "text"
      },
      "source": [
        "##### 1.1 Write a Python Program to implement your own myreduce() function which works exactly\n",
        "##### like Python's built-in function reduce()"
      ]
    },
    {
      "cell_type": "code",
      "metadata": {
        "id": "h_50L3PkXoQk",
        "colab_type": "code",
        "colab": {}
      },
      "source": [
        "def add(a,b):\n",
        "    return a+b"
      ],
      "execution_count": null,
      "outputs": []
    },
    {
      "cell_type": "code",
      "metadata": {
        "id": "3ZWYfQuvXoQu",
        "colab_type": "code",
        "colab": {},
        "outputId": "e5618fa3-7838-4040-8fdc-e64bc3899142"
      },
      "source": [
        "def myreduce(funcToImplement,data):\n",
        "    while len(data)!=1:\n",
        "        a = data[0]\n",
        "        b = data[1]\n",
        "        del data[:2]\n",
        "        data.insert(0,funcToImplement(a,b))\n",
        "    return data[0]\n",
        "\n",
        "print(myreduce(add,[1,2,3]))"
      ],
      "execution_count": null,
      "outputs": [
        {
          "output_type": "stream",
          "text": [
            "6\n"
          ],
          "name": "stdout"
        }
      ]
    },
    {
      "cell_type": "markdown",
      "metadata": {
        "id": "UaFK_RX5XoQ2",
        "colab_type": "text"
      },
      "source": [
        "##### 1.2 Write a Python program to implement your own myfilter() function which works exactly\n",
        "##### like Python's built-in function filter()"
      ]
    },
    {
      "cell_type": "code",
      "metadata": {
        "id": "_PLwYkSsXoQ3",
        "colab_type": "code",
        "colab": {}
      },
      "source": [
        "def odd(a):\n",
        "    return a%2 != 0"
      ],
      "execution_count": null,
      "outputs": []
    },
    {
      "cell_type": "code",
      "metadata": {
        "id": "OLF5sh-uXoQ7",
        "colab_type": "code",
        "colab": {},
        "outputId": "0cdbb319-e363-4800-dc3f-585d97da0df7"
      },
      "source": [
        "def myfilter(funcToImplement,data):\n",
        "    i = len(data)-1\n",
        "    while i>=0:\n",
        "        if not (funcToImplement(data[i])):\n",
        "            del data[i]\n",
        "        i -=1\n",
        "    return data\n",
        "\n",
        "print(myfilter(odd,[1,2,3,4,5]))"
      ],
      "execution_count": null,
      "outputs": [
        {
          "output_type": "stream",
          "text": [
            "[1, 3, 5]\n"
          ],
          "name": "stdout"
        }
      ]
    },
    {
      "cell_type": "markdown",
      "metadata": {
        "id": "7NpN7R2gXoRB",
        "colab_type": "text"
      },
      "source": [
        "##### 2. Implement List comprehensions to produce the following lists.\n",
        "##### Write List comprehensions to produce the following Lists"
      ]
    },
    {
      "cell_type": "code",
      "metadata": {
        "id": "J3ziDMl3XoRC",
        "colab_type": "code",
        "colab": {},
        "outputId": "fae72b9e-8ca3-4d6d-b43c-2f1e5e44cf59"
      },
      "source": [
        "characters = ['x','y','z']\n",
        "list1 = [char*num for char in characters for num in range(1,5)]\n",
        "list1"
      ],
      "execution_count": null,
      "outputs": [
        {
          "output_type": "execute_result",
          "data": {
            "text/plain": [
              "['x', 'xx', 'xxx', 'xxxx', 'y', 'yy', 'yyy', 'yyyy', 'z', 'zz', 'zzz', 'zzzz']"
            ]
          },
          "metadata": {
            "tags": []
          },
          "execution_count": 7
        }
      ]
    },
    {
      "cell_type": "code",
      "metadata": {
        "id": "kTktaqHdXoRG",
        "colab_type": "code",
        "colab": {},
        "outputId": "a8a47fb0-1178-4cc8-d90a-cf02867035b9"
      },
      "source": [
        "list2 = [char*num for num in range(1,5) for char in characters]\n",
        "list2"
      ],
      "execution_count": null,
      "outputs": [
        {
          "output_type": "execute_result",
          "data": {
            "text/plain": [
              "['x', 'y', 'z', 'xx', 'yy', 'zz', 'xxx', 'yyy', 'zzz', 'xxxx', 'yyyy', 'zzzz']"
            ]
          },
          "metadata": {
            "tags": []
          },
          "execution_count": 8
        }
      ]
    },
    {
      "cell_type": "code",
      "metadata": {
        "id": "dA1y3OCmXoRK",
        "colab_type": "code",
        "colab": {},
        "outputId": "1d07bf10-eea6-41ce-ea1f-94e6fea2c327"
      },
      "source": [
        "nums = [2,3,4]\n",
        "list3 = [[num+i] for num in nums for i in range(3)]\n",
        "list3"
      ],
      "execution_count": null,
      "outputs": [
        {
          "output_type": "execute_result",
          "data": {
            "text/plain": [
              "[[2], [3], [4], [3], [4], [5], [4], [5], [6]]"
            ]
          },
          "metadata": {
            "tags": []
          },
          "execution_count": 9
        }
      ]
    },
    {
      "cell_type": "code",
      "metadata": {
        "id": "O0J9HtVDXoRQ",
        "colab_type": "code",
        "colab": {},
        "outputId": "2804d4d9-2bc3-4584-a4a3-4e1b68bc75a0"
      },
      "source": [
        "nums = [2,3,4,5,6,7,8]\n",
        "list4 = [nums[i:i+4] for i in range(4)]\n",
        "list4"
      ],
      "execution_count": null,
      "outputs": [
        {
          "output_type": "execute_result",
          "data": {
            "text/plain": [
              "[[2, 3, 4, 5], [3, 4, 5, 6], [4, 5, 6, 7], [5, 6, 7, 8]]"
            ]
          },
          "metadata": {
            "tags": []
          },
          "execution_count": 10
        }
      ]
    },
    {
      "cell_type": "code",
      "metadata": {
        "id": "lIHAQeobXoRW",
        "colab_type": "code",
        "colab": {},
        "outputId": "58321e7c-94e7-4c3f-8799-9d1509ea5a90"
      },
      "source": [
        "list5 = [(j,i) for i in range(1,4) for j in range(1,4)]\n",
        "list5"
      ],
      "execution_count": null,
      "outputs": [
        {
          "output_type": "execute_result",
          "data": {
            "text/plain": [
              "[(1, 1), (2, 1), (3, 1), (1, 2), (2, 2), (3, 2), (1, 3), (2, 3), (3, 3)]"
            ]
          },
          "metadata": {
            "tags": []
          },
          "execution_count": 11
        }
      ]
    },
    {
      "cell_type": "code",
      "metadata": {
        "id": "fxCOpwXFXoRc",
        "colab_type": "code",
        "colab": {}
      },
      "source": [
        ""
      ],
      "execution_count": null,
      "outputs": []
    }
  ]
}