{
  "nbformat": 4,
  "nbformat_minor": 0,
  "metadata": {
    "kernelspec": {
      "display_name": "Python 3",
      "language": "python",
      "name": "python3"
    },
    "language_info": {
      "codemirror_mode": {
        "name": "ipython",
        "version": 3
      },
      "file_extension": ".py",
      "mimetype": "text/x-python",
      "name": "python",
      "nbconvert_exporter": "python",
      "pygments_lexer": "ipython3",
      "version": "3.7.4"
    },
    "colab": {
      "name": "Assignment_1.ipynb",
      "provenance": [],
      "collapsed_sections": []
    }
  },
  "cells": [
    {
      "cell_type": "markdown",
      "metadata": {
        "id": "-ksmyqig661O",
        "colab_type": "text"
      },
      "source": [
        "# Assignment_1\n"
      ]
    },
    {
      "cell_type": "code",
      "metadata": {
        "id": "3SA9nhIO661R",
        "colab_type": "code",
        "colab": {},
        "outputId": "6dd3fa74-8b37-4e12-bb5b-782c9d71c432"
      },
      "source": [
        "#Write a program which will find all such numbers which are divisible by 7 but are not a multiple of 5, between 2000 and 3200 (both included). \n",
        "#The numbers obtained should be printed in a comma-separated sequence on a single line\n",
        "nl=[]\n",
        "for x in range(2000, 3200):\n",
        "    if (x%7==0) and (x%5==0):\n",
        "        nl.append(str(x))\n",
        "print (','.join(nl))"
      ],
      "execution_count": null,
      "outputs": [
        {
          "output_type": "stream",
          "text": [
            "2030,2065,2100,2135,2170,2205,2240,2275,2310,2345,2380,2415,2450,2485,2520,2555,2590,2625,2660,2695,2730,2765,2800,2835,2870,2905,2940,2975,3010,3045,3080,3115,3150,3185\n"
          ],
          "name": "stdout"
        }
      ]
    },
    {
      "cell_type": "code",
      "metadata": {
        "id": "EPXp3o5s661c",
        "colab_type": "code",
        "colab": {},
        "outputId": "b7cd84fb-2a24-4290-d085-8d5f00f18c78"
      },
      "source": [
        "#Write a Python program to accept the user's first and last name and then getting\n",
        "#them printed in the the reverse order with a space between first name and last name. \n",
        "s='python programming'\n",
        "output=''\n",
        "i=len(s)-1\n",
        "while i>=0:\n",
        "    output=output+s[i]\n",
        "    i=i-1\n",
        "print(output)"
      ],
      "execution_count": null,
      "outputs": [
        {
          "output_type": "stream",
          "text": [
            "gnimmargorp nohtyp\n"
          ],
          "name": "stdout"
        }
      ]
    },
    {
      "cell_type": "code",
      "metadata": {
        "id": "hGlCsfXh661j",
        "colab_type": "code",
        "colab": {},
        "outputId": "788422fe-921d-491d-eb7c-857e708c82a4"
      },
      "source": [
        "#Write a Python program to find the volume of a sphere with diameter 12 cm.  \n",
        " \n",
        "#Formula: V=4/3 * π * r 3 \n",
        "\n",
        "import math\n",
        "pi = math.pi\n",
        "r = float(12/2)\n",
        "V = (float(4/3)*(pi)*(r)**3)\n",
        "print(V)\n",
        " "
      ],
      "execution_count": null,
      "outputs": [
        {
          "output_type": "stream",
          "text": [
            "904.7786842338603\n"
          ],
          "name": "stdout"
        }
      ]
    }
  ]
}