{
  "nbformat": 4,
  "nbformat_minor": 0,
  "metadata": {
    "kernelspec": {
      "display_name": "Python 3",
      "language": "python",
      "name": "python3"
    },
    "language_info": {
      "codemirror_mode": {
        "name": "ipython",
        "version": 3
      },
      "file_extension": ".py",
      "mimetype": "text/x-python",
      "name": "python",
      "nbconvert_exporter": "python",
      "pygments_lexer": "ipython3",
      "version": "3.7.4"
    },
    "colab": {
      "name": "Assignment_2.ipynb",
      "provenance": [],
      "collapsed_sections": []
    }
  },
  "cells": [
    {
      "cell_type": "markdown",
      "metadata": {
        "id": "xKy0y14UDweL",
        "colab_type": "text"
      },
      "source": [
        "# Assignment_2"
      ]
    },
    {
      "cell_type": "markdown",
      "metadata": {
        "id": "f-y0gyHgDweP",
        "colab_type": "text"
      },
      "source": [
        "1. Create the below pattern using nested for loop in Python."
      ]
    },
    {
      "cell_type": "code",
      "metadata": {
        "id": "8W7XI3oGDweQ",
        "colab_type": "code",
        "colab": {},
        "outputId": "28f3bb05-c688-4ad5-a228-7bedc9076ac9"
      },
      "source": [
        "#1. Solution\n",
        "n= int(input(\"enter any no:\"))\n",
        "for i in range(n):\n",
        "    print('* '*(i+1))\n",
        "for i in range(n-1):\n",
        "    print('* '*(n-i-1))"
      ],
      "execution_count": null,
      "outputs": [
        {
          "output_type": "stream",
          "text": [
            "enter any no:5\n",
            "* \n",
            "* * \n",
            "* * * \n",
            "* * * * \n",
            "* * * * * \n",
            "* * * * \n",
            "* * * \n",
            "* * \n",
            "* \n"
          ],
          "name": "stdout"
        }
      ]
    },
    {
      "cell_type": "markdown",
      "metadata": {
        "id": "-3VQPFxWDweW",
        "colab_type": "text"
      },
      "source": [
        " 2. Write a Python program to reverse a word after accepting the input from the user.\n",
        "    Sample Output:\n",
        "    Input word: ineuron\n",
        "    Output: norueni"
      ]
    },
    {
      "cell_type": "code",
      "metadata": {
        "id": "VlxpK0LYDweX",
        "colab_type": "code",
        "colab": {},
        "outputId": "46019563-c235-45c5-e8ca-1c6936078b72"
      },
      "source": [
        "#2. Solution\n",
        "\n",
        "a=input('enter any name: ')\n",
        "reverse=a[::-1]\n",
        "print(reverse)"
      ],
      "execution_count": null,
      "outputs": [
        {
          "output_type": "stream",
          "text": [
            "enter any name: ineuron\n",
            "norueni\n"
          ],
          "name": "stdout"
        }
      ]
    },
    {
      "cell_type": "code",
      "metadata": {
        "id": "PROwJ5o0Dwed",
        "colab_type": "code",
        "colab": {}
      },
      "source": [
        ""
      ],
      "execution_count": null,
      "outputs": []
    }
  ]
}